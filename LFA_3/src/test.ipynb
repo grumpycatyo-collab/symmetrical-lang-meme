{
 "cells": [
  {
   "cell_type": "markdown",
   "id": "66ad7b0e",
   "metadata": {},
   "source": [
    "## Examples on using the lexer"
   ]
  },
  {
   "cell_type": "code",
   "execution_count": 1,
   "id": "2071662e",
   "metadata": {},
   "outputs": [],
   "source": [
    "from lexer import tokenize"
   ]
  },
  {
   "cell_type": "markdown",
   "id": "3e0150d6",
   "metadata": {},
   "source": [
    "*See the tokenize() function in the **lexer.py*** "
   ]
  },
  {
   "cell_type": "code",
   "execution_count": 2,
   "id": "ce81b0b3",
   "metadata": {},
   "outputs": [
    {
     "data": {
      "text/plain": [
       "[('COMMAND', 'sudo'), ('COMMAND', 'dnf')]"
      ]
     },
     "execution_count": 2,
     "metadata": {},
     "output_type": "execute_result"
    }
   ],
   "source": [
    "data = 'sudo dnf'\n",
    "tokenize(data)"
   ]
  },
  {
   "cell_type": "code",
   "execution_count": 3,
   "id": "4af44146",
   "metadata": {},
   "outputs": [
    {
     "data": {
      "text/plain": [
       "[('COMMAND', 'lib'), ('FLAG', '--help')]"
      ]
     },
     "execution_count": 3,
     "metadata": {},
     "output_type": "execute_result"
    }
   ],
   "source": [
    "data = 'lib --help'\n",
    "tokenize(data)"
   ]
  },
  {
   "cell_type": "code",
   "execution_count": 4,
   "id": "90c43982",
   "metadata": {},
   "outputs": [
    {
     "data": {
      "text/plain": [
       "[('COMMAND', 'git'),\n",
       " ('COMMAND', 'commit'),\n",
       " ('FLAG', '--m'),\n",
       " ('IDENTIFIER', 'string')]"
      ]
     },
     "execution_count": 4,
     "metadata": {},
     "output_type": "execute_result"
    }
   ],
   "source": [
    "tokenize('git commit --m \"string\"')"
   ]
  },
  {
   "cell_type": "code",
   "execution_count": 5,
   "id": "749646f9",
   "metadata": {},
   "outputs": [
    {
     "data": {
      "text/plain": [
       "[('COMMAND', 'sudo'), ('COMMAND', 'dnf'), ('COMMAND', 'update')]"
      ]
     },
     "execution_count": 5,
     "metadata": {},
     "output_type": "execute_result"
    }
   ],
   "source": [
    "tokenize('sudo dnf update')"
   ]
  },
  {
   "cell_type": "code",
   "execution_count": 6,
   "id": "424ba92d",
   "metadata": {},
   "outputs": [
    {
     "data": {
      "text/plain": [
       "[('DIR_NAV_COMMANDS', 'cd'), ('PATH', '\"C:\\\\Users\\\\User\\\\Desktop\\\\folder\"')]"
      ]
     },
     "execution_count": 6,
     "metadata": {},
     "output_type": "execute_result"
    }
   ],
   "source": [
    "tokenize('cd \"C:\\\\Users\\\\User\\\\Desktop\\\\folder\"')"
   ]
  },
  {
   "cell_type": "code",
   "execution_count": 7,
   "id": "54e57569",
   "metadata": {},
   "outputs": [
    {
     "data": {
      "text/plain": [
       "[('DIR_NAV_COMMANDS', 'touch'),\n",
       " ('IMAGE_PATH', '\"/path/to/existing_image.png\"')]"
      ]
     },
     "execution_count": 7,
     "metadata": {},
     "output_type": "execute_result"
    }
   ],
   "source": [
    "tokenize('touch \"/path/to/existing_image.png\"')"
   ]
  },
  {
   "cell_type": "code",
   "execution_count": 8,
   "id": "af390567",
   "metadata": {},
   "outputs": [
    {
     "data": {
      "text/plain": [
       "[('COMMAND', 'sudo'), ('DIR_NAV_COMMANDS', 'pwd')]"
      ]
     },
     "execution_count": 8,
     "metadata": {},
     "output_type": "execute_result"
    }
   ],
   "source": [
    "tokenize('sudo pwd')"
   ]
  }
 ],
 "metadata": {
  "kernelspec": {
   "display_name": "Python 3 (ipykernel)",
   "language": "python",
   "name": "python3"
  },
  "language_info": {
   "codemirror_mode": {
    "name": "ipython",
    "version": 3
   },
   "file_extension": ".py",
   "mimetype": "text/x-python",
   "name": "python",
   "nbconvert_exporter": "python",
   "pygments_lexer": "ipython3",
   "version": "3.11.5"
  }
 },
 "nbformat": 4,
 "nbformat_minor": 5
}
